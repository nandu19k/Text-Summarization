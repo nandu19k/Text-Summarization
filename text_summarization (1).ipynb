{
  "nbformat": 4,
  "nbformat_minor": 0,
  "metadata": {
    "colab": {
      "name": "text_summarization.ipynb",
      "provenance": []
    },
    "kernelspec": {
      "name": "python3",
      "display_name": "Python 3"
    }
  },
  "cells": [
    {
      "cell_type": "code",
      "metadata": {
        "id": "ZT76z_3U9Mcz",
        "colab_type": "code",
        "colab": {}
      },
      "source": [
        "from nltk.corpus import stopwords\n",
        "from nltk.cluster.util import cosine_distance"
      ],
      "execution_count": 1,
      "outputs": []
    },
    {
      "cell_type": "code",
      "metadata": {
        "id": "b_5GHZYD9_P9",
        "colab_type": "code",
        "colab": {}
      },
      "source": [
        "import numpy as np\n",
        "import networkx as nx"
      ],
      "execution_count": 2,
      "outputs": []
    },
    {
      "cell_type": "code",
      "metadata": {
        "id": "4pJe_PQa-Yu7",
        "colab_type": "code",
        "colab": {}
      },
      "source": [
        "def read_article(filename):\n",
        "  file = open(filename , 'r')\n",
        "  filedata = file.readlines()\n",
        " \n",
        "  article = filedata[0].split('. ')\n",
        "  sentences = []\n",
        "  for i in article:\n",
        "    sentences.append(i.replace('[^a-zA-Z' , ' ').split(' '))\n",
        "  return sentences"
      ],
      "execution_count": 3,
      "outputs": []
    },
    {
      "cell_type": "code",
      "metadata": {
        "id": "3K8PF52eAnbm",
        "colab_type": "code",
        "colab": {}
      },
      "source": [
        "def sentence_similarity(sent1 , sent2 , stop_words = None):\n",
        "  if stop_words is None:\n",
        "    stop_words = []\n",
        "\n",
        "  sent1 = [w.lower() for w in sent1]\n",
        "  sent2 = [w.lower() for w in sent2]\n",
        "\n",
        "  all_words = list(set(sent1+sent2))\n",
        "\n",
        "  vector1 = [0]*len(all_words)\n",
        "  vector2 = [0]*len(all_words)\n",
        "  for i in sent1:\n",
        "    if i in stop_words:\n",
        "      continue\n",
        "    else:\n",
        "      vector1[all_words.index(i)] +=1\n",
        "  for i in sent2:\n",
        "    if i in stop_words:\n",
        "      continue\n",
        "    else:\n",
        "      vector2[all_words.index(i)] +=1\n",
        "\n",
        "  return 1-cosine_distance(vector1 , vector2)"
      ],
      "execution_count": 4,
      "outputs": []
    },
    {
      "cell_type": "code",
      "metadata": {
        "id": "BxLDA6v5_to2",
        "colab_type": "code",
        "colab": {}
      },
      "source": [
        "def build_similarity_matrix(sentences , stopwords):\n",
        "  similarity_matrix = np.zeros([len(sentences) , len(sentences)])  \n",
        "  for idx1 in range(len(sentences)):\n",
        "    for idx2 in  range(len(sentences)):\n",
        "      if idx1==idx2:\n",
        "        continue\n",
        "      else:\n",
        "        similarity_matrix[idx1][idx2] = sentence_similarity(sentences[idx1] , sentences[idx2 ], stopwords)\n",
        "  return similarity_matrix"
      ],
      "execution_count": 5,
      "outputs": []
    },
    {
      "cell_type": "code",
      "metadata": {
        "id": "QQ6EsNQa-DrJ",
        "colab_type": "code",
        "colab": {}
      },
      "source": [
        "def summarize_text(filename , top_n=5):\n",
        "  stop_words = stopwords.words('english')\n",
        "  summarize_text = []\n",
        "  sentences  = read_article(filename)\n",
        "\n",
        "  similarity_matrix = build_similarity_matrix(sentences , stop_words)\n",
        "\n",
        "  sentence_similarity_graph = nx.from_numpy_array(similarity_matrix)\n",
        "  scores = nx.pagerank(sentence_similarity_graph)\n",
        "\n",
        "\n",
        "  ranked_sentence = sorted(((scores[i],s) for i,s in enumerate(sentences)), reverse=True)   \n",
        "  \n",
        "  for i in range(top_n):\n",
        "    summarize_text.append(' '.join(ranked_sentence[i][1]))\n",
        "  print(\"Summarize Text: \\n\", \". \".join(summarize_text))\n",
        "\n"
      ],
      "execution_count": 6,
      "outputs": []
    },
    {
      "cell_type": "code",
      "metadata": {
        "id": "GIlfjINdDNyF",
        "colab_type": "code",
        "colab": {
          "base_uri": "https://localhost:8080/",
          "height": 71
        },
        "outputId": "3cdf44e4-f11e-4d23-ece5-5ae77a3ad8ee"
      },
      "source": [
        "summarize_text('cricket.txt' , 2)"
      ],
      "execution_count": 7,
      "outputs": [
        {
          "output_type": "stream",
          "text": [
            "Summarize Text: \n",
            " Cricket is a bat-and-ball game played between two teams of eleven players on a field at the centre of which is a 22-yard (20-metre) pitch with a wicket at each end, each comprising two bails balanced on three stumps. Means of dismissal include being bowled, when the ball hits the stumps and dislodges the bails, and by the fielding side catching the ball after it is hit by the bat, but before it hits the ground\n"
          ],
          "name": "stdout"
        }
      ]
    }
  ]
}